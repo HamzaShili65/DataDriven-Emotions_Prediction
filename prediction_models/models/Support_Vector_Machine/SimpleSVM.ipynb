{
 "cells": [
  {
   "cell_type": "code",
   "execution_count": null,
   "metadata": {},
   "outputs": [],
   "source": [
    "Feature Extraction"
   ]
  },
  {
   "cell_type": "code",
   "execution_count": null,
   "metadata": {},
   "outputs": [],
   "source": [
    "# plot the MFCCs heatmap\n",
    "def plot_mfccs(mfccs):\n",
    "    plt.figure(figsize=(10, 4))\n",
    "    librosa.display.specshow(mfccs, x_axis='time')\n",
    "    plt.colorbar()\n",
    "    plt.title('MFCC')\n",
    "    plt.tight_layout()\n",
    "    plt.show()\n",
    "\n",
    "#plot a grid of MFCCs.\n",
    "def plot_mfccs_subplot(mfccs, ax):\n",
    "    img = librosa.display.specshow(mfccs, x_axis='time', ax=ax)\n",
    "    return img"
   ]
  },
  {
   "cell_type": "code",
   "execution_count": null,
   "metadata": {},
   "outputs": [],
   "source": [
    "# Set the number of Mel-Frequency Cepstral Coefficients (MFCCs) to extract.\n",
    "num_mfcc = 20\n",
    "\n",
    "# Initialize empty arrays to hold the feature matrix from audio and corresponding labels.\n",
    "X_train = []\n",
    "y_train = []\n",
    "\n",
    "# Set the number of rows and columns for the subplot grid\n",
    "num_rows = 4\n",
    "num_cols = 4\n",
    "\n",
    "# Keep track of the current subplot index\n",
    "subplot_idx = 1\n",
    "\n",
    "# Create a new figure for the grid of subplots\n",
    "fig, axes = plt.subplots(num_rows, num_cols, figsize=(15, 10))\n",
    "fig.tight_layout(pad=2.0)\n",
    "\n",
    "# Iterate through all of the .wav files in the training directory.\n",
    "for file in sorted(os.listdir(data_path)):\n",
    "    if file.endswith(\".wav\"):\n",
    "        # Load the audio file using librosa and our files in Google Drive.\n",
    "        audio_data, sample_rate = librosa.load(os.path.join(data_path, file))\n",
    "\n",
    "        # Determine the MFCC features from the audio data provided above.\n",
    "        mfccs = librosa.feature.mfcc(y=audio_data, sr=sample_rate, n_mfcc=num_mfcc)\n",
    "        #print(mfccs)\n",
    "\n",
    "        # Plot the MFCCs\n",
    "        # plot_mfccs(mfccs)\n",
    "        # Plot the MFCCs in the corresponding subplot\n",
    "        row = (subplot_idx - 1) // num_cols\n",
    "        col = (subplot_idx - 1) % num_cols\n",
    "        img = plot_mfccs_subplot(mfccs, axes[row, col])\n",
    "        axes[row, col].set_title(file)\n",
    "\n",
    "        # Increment the subplot index\n",
    "        subplot_idx += 1\n",
    "\n",
    "        if subplot_idx > num_rows * num_cols:\n",
    "            break\n",
    "\n",
    "        # Grab the mean and standard deviation of our features.\n",
    "        mfccs_avg = np.mean(mfccs, axis=1)\n",
    "        mfccs_std = np.std(mfccs, axis=1)\n",
    "\n",
    "        # Add the MFCC features to the data matrix\n",
    "        X_train.append(np.concatenate((mfccs_avg, mfccs_std)))\n",
    "\n",
    "        # Determine the emotion label of the audio file based on its filename.\n",
    "        label = \"\"\n",
    "        idx = 0\n",
    "        while not (file[idx].isdigit()):\n",
    "            label += file[idx]\n",
    "            idx += 1\n",
    "        y_train.append(label)\n",
    "\n",
    "# Add a colorbar to the figure\n",
    "cbar = fig.colorbar(img, ax=axes.ravel().tolist())\n",
    "cbar.set_label('Amplitude (dB)')\n",
    "\n",
    "# Show the figure\n",
    "plt.show()"
   ]
  },
  {
   "cell_type": "markdown",
   "metadata": {},
   "source": [
    "Split data into training and validation data"
   ]
  },
  {
   "cell_type": "code",
   "execution_count": null,
   "metadata": {},
   "outputs": [],
   "source": [
    "# Convert our data into np.arrays for SVM.\n",
    "X_train = np.array(X_train)\n",
    "y_train = np.array(y_train)\n",
    "\n",
    "# Use stratified sampling to split the data into a smaller training set and a validation set\n",
    "X_train_new, X_val, y_train_new, y_val = train_test_split(X_train, y_train, test_size=0.2, random_state=42, stratify=y_train)\n",
    "\n",
    "# Initialize the SVM classifier\n",
    "svm_classifier = SVC(kernel='linear', C=10, gamma=0.1)\n",
    "\n",
    "# Train the SVM classifier on the smaller training set\n",
    "svm_classifier.fit(X_train_new, y_train_new)\n",
    "\n",
    "# Predict the labels of the validation set using the trained SVM classifier\n",
    "y_pred_val = svm_classifier.predict(X_val)\n",
    "\n",
    "# Print the classification report and confusion matrix for the validation set\n",
    "print(classification_report(y_val, y_pred_val))\n",
    "print(confusion_matrix(y_val, y_pred_val))"
   ]
  }
 ],
 "metadata": {
  "kernelspec": {
   "display_name": "Python 3.9.6 64-bit",
   "language": "python",
   "name": "python3"
  },
  "language_info": {
   "name": "python",
   "version": "3.9.6"
  },
  "orig_nbformat": 4,
  "vscode": {
   "interpreter": {
    "hash": "31f2aee4e71d21fbe5cf8b01ff0e069b9275f58929596ceb00d14d90e3e16cd6"
   }
  }
 },
 "nbformat": 4,
 "nbformat_minor": 2
}
